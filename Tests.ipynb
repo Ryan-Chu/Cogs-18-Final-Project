{
 "cells": [
  {
   "cell_type": "code",
   "execution_count": 15,
   "metadata": {},
   "outputs": [],
   "source": [
    "import MakesGame\n",
    "'''\n",
    "Since this project was gui based, most of the tests were visual based.\n",
    "Or tests were within the program such as print statements to see if someone was executed properly.\n",
    "'''\n",
    "def main():\n",
    "    assert callable (Draw_Lights)\n",
    "    assert callable (show_sequence)\n",
    "    assert callable (flash_color)\n",
    "    assert callable (click_on_box)\n",
    "    assert callable (check_sequence)\n",
    "    assert isinstance(self.sequence, tuple)\n",
    "    assert isinstance(self.guesses, tuple)"
   ]
  }
 ],
 "metadata": {
  "kernelspec": {
   "display_name": "Python 3",
   "language": "python",
   "name": "python3"
  },
  "language_info": {
   "codemirror_mode": {
    "name": "ipython",
    "version": 3
   },
   "file_extension": ".py",
   "mimetype": "text/x-python",
   "name": "python",
   "nbconvert_exporter": "python",
   "pygments_lexer": "ipython3",
   "version": "3.7.0"
  }
 },
 "nbformat": 4,
 "nbformat_minor": 2
}
